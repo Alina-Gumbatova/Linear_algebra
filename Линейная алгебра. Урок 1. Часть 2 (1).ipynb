{
 "cells": [
  {
   "cell_type": "markdown",
   "id": "b3ff9b0a",
   "metadata": {},
   "source": [
    "# Практическое задание 1"
   ]
  },
  {
   "cell_type": "markdown",
   "id": "d24f3b4d",
   "metadata": {},
   "source": [
    "## по теме: \"Линейное пространство. Основные понятия. Часть 2\""
   ]
  },
  {
   "cell_type": "markdown",
   "id": "b4d0a883",
   "metadata": {},
   "source": [
    "__1.__ Найти скалярное произведение векторов $x, y \\in \\mathbb{R}$:<br>\n",
    "а) $x=(0,-3, 6),~y=(-4, 7, 9);$<br>\n",
    "б) $x=(7, -4, 0, 1),~y=(-3, 1, 11, 2).$\n"
   ]
  },
  {
   "cell_type": "code",
   "execution_count": 1,
   "id": "3816cccb",
   "metadata": {},
   "outputs": [],
   "source": [
    "import numpy as np"
   ]
  },
  {
   "cell_type": "code",
   "execution_count": 2,
   "id": "5fb756e8",
   "metadata": {},
   "outputs": [
    {
     "name": "stdout",
     "output_type": "stream",
     "text": [
      "Скалярное произведение x и y:33\n",
      "Скалярное произведение x и y:33\n",
      "Скалярное произведение x и y:33\n"
     ]
    }
   ],
   "source": [
    "x = np.array([0, -3, 6])\n",
    "y = np.array([-4, 7, 9])\n",
    "print(f'Скалярное произведение x и y:{np.dot(x, y)}')\n",
    "print(f'Скалярное произведение x и y:{x.dot(y)}')\n",
    "print(f'Скалярное произведение x и y:{x @ y}')"
   ]
  },
  {
   "cell_type": "code",
   "execution_count": 3,
   "id": "afb5d8f1",
   "metadata": {},
   "outputs": [
    {
     "name": "stdout",
     "output_type": "stream",
     "text": [
      "Скалярное произведение a и b:-23\n",
      "Скалярное произведение a и b:-23\n",
      "Скалярное произведение a и b:-23\n"
     ]
    }
   ],
   "source": [
    "a = np.array([7, -4, 0, 1])\n",
    "b = np.array([-3, 1, 11, 2])\n",
    "print(f'Скалярное произведение a и b:{np.dot(a, b)}')\n",
    "print(f'Скалярное произведение a и b:{a.dot(b)}')\n",
    "print(f'Скалярное произведение a и b:{a @ b}')"
   ]
  },
  {
   "cell_type": "markdown",
   "id": "ad9ddd6b",
   "metadata": {},
   "source": [
    "__2.__ Найти нормы векторов $(4, 2, 4)$ и $(12, 3, 4)$ и угол между ними."
   ]
  },
  {
   "cell_type": "markdown",
   "id": "7a80a81e",
   "metadata": {},
   "source": [
    "$p$-норма (норма Гёльдера) для вектора $x = (x_{1}, \\dots, x_{n}) \\in \\mathbb{R}^{n}$ вычисляется по формуле:\n",
    "\n",
    "$$\\left\\| x \\right\\|_{p} = \\left( \\sum_{i} \\left| x_{i} \\right|^{p} \\right)^{1 / p},~p \\geq 1.$$\n",
    "\n",
    "В частных случаях при:\n",
    "\n",
    "- $p = 1$ получаем $\\ell_{1}$ норму (_манхэттенская норма_, или _манхэттенское расстояние_)\n",
    "\n",
    "$$\\left\\|x\\right\\|_{1} = \\sum_{i}|x_{i}|;$$\n",
    "\n",
    "- $p = 2$ получаем $\\ell_{2}$ норму (_евклидова норма_, наиболее часто используемая)\n",
    "\n",
    "$$\\left\\|x\\right\\|_{2} = \\sqrt{\\sum_{i}|x_{i}|^{2}}.$$"
   ]
  },
  {
   "cell_type": "code",
   "execution_count": 4,
   "id": "77bd00c0",
   "metadata": {},
   "outputs": [],
   "source": [
    "from numpy.linalg import norm"
   ]
  },
  {
   "cell_type": "code",
   "execution_count": 5,
   "id": "a9f50094",
   "metadata": {},
   "outputs": [],
   "source": [
    "x = np.array([4, 2, 4])\n",
    "y = np.array([12, 3, 4])"
   ]
  },
  {
   "cell_type": "code",
   "execution_count": 6,
   "id": "fd6cf183",
   "metadata": {},
   "outputs": [
    {
     "name": "stdout",
     "output_type": "stream",
     "text": [
      "Манхетовская норма вектора x: 10.0\n",
      "Евклидова норма вектора x: 6.0\n"
     ]
    }
   ],
   "source": [
    "print(f'Манхетовская норма вектора x: {norm(x, ord=1)}')\n",
    "print(f'Евклидова норма вектора x: {norm(x, ord=2)}')"
   ]
  },
  {
   "cell_type": "code",
   "execution_count": 7,
   "id": "beff2c42",
   "metadata": {},
   "outputs": [
    {
     "name": "stdout",
     "output_type": "stream",
     "text": [
      "Манхетовская норма вектора y: 19.0\n",
      "Евклидова норма вектора y: 13.0\n"
     ]
    }
   ],
   "source": [
    "print(f'Манхетовская норма вектора y: {norm(y, ord=1)}')\n",
    "print(f'Евклидова норма вектора y: {norm(y, ord=2)}')"
   ]
  },
  {
   "cell_type": "markdown",
   "id": "bf6c6fc0",
   "metadata": {},
   "source": [
    "Косинус угла $\\varphi \\in [0, \\pi]$ между векторами в евклидовом пространстве определяется соотношением\n",
    "\n",
    "$$cos\\varphi = \\frac{(x,y)}{\\left \\|x\\right \\|\\cdot\\left \\|y\\right \\|}.$$"
   ]
  },
  {
   "cell_type": "code",
   "execution_count": 8,
   "id": "a05b863e",
   "metadata": {},
   "outputs": [
    {
     "data": {
      "text/plain": [
       "0.8974358974358974"
      ]
     },
     "execution_count": 8,
     "metadata": {},
     "output_type": "execute_result"
    }
   ],
   "source": [
    "cos_phi = np.dot(x, y) / norm(x) / norm(y)\n",
    "cos_phi"
   ]
  },
  {
   "cell_type": "markdown",
   "id": "4d5d6204",
   "metadata": {},
   "source": [
    "__3.__ Будет ли линейное пространство евклидовым, если за скалярное произведение принять:<br>\n",
    "а) произведение длин векторов;<br>\n",
    "б) утроенное обычное скалярное произведение векторов?<br>"
   ]
  },
  {
   "cell_type": "markdown",
   "id": "cf29653b",
   "metadata": {},
   "source": [
    "Линейное пространство над полем вещественных чисел называется _евклидовым пространством_, если на нем введено правило, согласно которому каждой упорядоченной паре векторов $x$ и $y$ поставлено в соответствие вещественное число, называемое _скалярным произведением_ и обозначаемое символом $(x, y)$.\n",
    "\n",
    "При этом указанное правило должно подчиняться четырем аксиомам:<br>\n",
    "1) $(x,y)=(y,x);$<br>\n",
    "2) $(\\lambda x, y)=\\lambda(x, y);$<br>\n",
    "3) $(x_{1}+x_{2},y)=(x_{1},y)+(x_{2},y);$<br>\n",
    "4) $(x, x)\\geq0$, причем $(x,x)=0\\Leftrightarrow x=0.$"
   ]
  },
  {
   "cell_type": "markdown",
   "id": "3d870ef2",
   "metadata": {},
   "source": [
    "а) Не будет.\n",
    "\n",
    "б) Да, будет евклидовым, т.к. будет удовлетворять всем аксиомам."
   ]
  },
  {
   "cell_type": "markdown",
   "id": "14a76b88",
   "metadata": {},
   "source": [
    "__4.__ Какие из нижеперечисленных векторов образуют ортонормированный базис в линейном пространстве $\\mathbb{R}^{3}$:<br>\n",
    "а) $(1,0,0),(0,0,1);$ <br>\n",
    "б) $(1/\\sqrt{2},-1/\\sqrt{2},0),(1/\\sqrt{2},1/\\sqrt{2},0), (0,0,1);$<br>\n",
    "в) $(1/2, -1/2, 0), (0, 1/2, 1/2), (0,0,1);$<br>\n",
    "г) $(1,0,0),(0,1,0),(0,0,1)?$ "
   ]
  },
  {
   "cell_type": "markdown",
   "id": "f71dfb12",
   "metadata": {},
   "source": [
    "__Определение.__ В конечномерном евклидовом пространстве базис $\\{e_{1},e_{2},...,e_{n}\\}$ называется ортонормированным, если \n",
    "\n",
    "$(e_{i}, e_{j})=0$ $\\forall$ $i\\neq j$ и $(e_{i},e_{i})=1$ $\\forall$ $i\\in[1, n].$\n",
    "\n",
    "Это означает, что ортонормированный базис является ортогональным и состоит из векторов единичной длины."
   ]
  },
  {
   "cell_type": "markdown",
   "id": "0745b26b",
   "metadata": {},
   "source": [
    "а) Образует\n",
    "\n",
    "б) Образует\n",
    "\n",
    "в) Не образует, т.к. второе условие не выполнено\n",
    "\n",
    "г) Образует"
   ]
  },
  {
   "cell_type": "code",
   "execution_count": null,
   "id": "1c708a45",
   "metadata": {},
   "outputs": [],
   "source": []
  }
 ],
 "metadata": {
  "kernelspec": {
   "display_name": "Python 3",
   "language": "python",
   "name": "python3"
  },
  "language_info": {
   "codemirror_mode": {
    "name": "ipython",
    "version": 3
   },
   "file_extension": ".py",
   "mimetype": "text/x-python",
   "name": "python",
   "nbconvert_exporter": "python",
   "pygments_lexer": "ipython3",
   "version": "3.8.8"
  }
 },
 "nbformat": 4,
 "nbformat_minor": 5
}
